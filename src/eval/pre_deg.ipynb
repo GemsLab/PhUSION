{
 "cells": [
  {
   "cell_type": "code",
   "execution_count": 1,
   "metadata": {},
   "outputs": [],
   "source": [
    "import os\n",
    "import sys\n",
    "import pickle as pkl\n",
    "import numpy as np\n",
    "import scipy.io\n",
    "import scipy.sparse as sp\n",
    "from scipy.sparse import csgraph\n",
    "import argparse\n",
    "import logging\n",
    "from sklearn.linear_model import LogisticRegression\n",
    "from sklearn.model_selection import ShuffleSplit\n",
    "from sklearn.multiclass import OneVsRestClassifier\n",
    "from sklearn.metrics import f1_score\n",
    "from sklearn.metrics import accuracy_score\n",
    "from sklearn.exceptions import UndefinedMetricWarning\n",
    "import warnings\n",
    "import pdb\n",
    "import networkx as nx\n",
    "import matplotlib.pyplot as plt"
   ]
  },
  {
   "cell_type": "code",
   "execution_count": 2,
   "metadata": {},
   "outputs": [],
   "source": [
    "def load_adjacency_matrix(file, variable_name=\"network\"):\n",
    "    data = scipy.io.loadmat(file)\n",
    "    return data[variable_name]\n",
    "\n",
    "\n",
    "def load_label(file, variable_name=\"group\"):\n",
    "    data = scipy.io.loadmat(file)\n",
    "    label = data[variable_name].todense().astype(np.int)\n",
    "    label = np.array(label)\n",
    "    return label"
   ]
  },
  {
   "cell_type": "code",
   "execution_count": 3,
   "metadata": {},
   "outputs": [],
   "source": [
    "def construct_indicator(y_score, y):\n",
    "    # rank the labels by the scores directly\n",
    "    num_label = np.sum(y, axis=1, dtype=np.int)\n",
    "    y_sort = np.fliplr(np.argsort(y_score, axis=1))\n",
    "    y_pred = np.zeros_like(y, dtype=np.int)\n",
    "    for i in range(y.shape[0]):\n",
    "        for j in range(num_label[i]):\n",
    "            y_pred[i, y_sort[i, j]] = 1\n",
    "    return y_pred"
   ]
  },
  {
   "cell_type": "code",
   "execution_count": 4,
   "metadata": {},
   "outputs": [],
   "source": [
    "def predict_cv(X, y, train_ratio=0.2, n_splits=10, random_state=0, C=1.):\n",
    "    shuffle = ShuffleSplit(n_splits=n_splits, test_size=1-train_ratio,\n",
    "            random_state=random_state)\n",
    "    result = [0] * X.shape[0]\n",
    "    count = 0\n",
    "    for train_index, test_index in shuffle.split(X):\n",
    "        X_train, X_test = X[train_index], X[test_index]\n",
    "        y_train, y_test = y[train_index], y[test_index]\n",
    "        clf = OneVsRestClassifier(\n",
    "                LogisticRegression(\n",
    "                    C=C,\n",
    "                    solver=\"liblinear\",\n",
    "                    multi_class=\"ovr\"),\n",
    "                n_jobs=-1)\n",
    "        clf.fit(X_train, y_train)\n",
    "        y_score = clf.predict_proba(X_test)\n",
    "        y_pred = construct_indicator(y_score, y_test)\n",
    "        for i in range(len(test_index)):\n",
    "            if (y_pred[i] == y[test_index[i]]).all():\n",
    "                result[test_index[i]] += 1\n",
    "        count += 1\n",
    "    return [i / count for i in result]"
   ]
  },
  {
   "cell_type": "code",
   "execution_count": 9,
   "metadata": {},
   "outputs": [],
   "source": [
    "def load_data(name):\n",
    "    embedding = np.load('../../data/embeded/' + name + '.npy')\n",
    "    data = scipy.io.loadmat('../../data/proximity/' + name + '.mat')\n",
    "    matrix = sp.csr_matrix(data[list(data.keys())[-1]])\n",
    "    degree = np.array(matrix.sum(axis=0))[0]\n",
    "    colors = load_label('../../data/origin/Homo_sapiens.mat')\n",
    "    return embedding, degree, colors"
   ]
  },
  {
   "cell_type": "code",
   "execution_count": 10,
   "metadata": {},
   "outputs": [],
   "source": [
    "def precision_degree(name):\n",
    "    embedding, degree, colors = load_data(name)\n",
    "    precision = predict_cv(embedding, colors)\n",
    "    plt.clf()\n",
    "    plt.scatter(degree, precision, s=0.8)\n",
    "    plt.xlabel('degree')\n",
    "    plt.ylabel('precision')\n",
    "    plt.title(name)\n",
    "    plt.savefig(name + '.png')"
   ]
  },
  {
   "cell_type": "code",
   "execution_count": 11,
   "metadata": {},
   "outputs": [
    {
     "name": "stdout",
     "output_type": "stream",
     "text": [
      "['invlap', 'invlap_l', 'invlap_b1', 'invlap_b2', 'HOPE', 'HOPE_l', 'HOPE_b1', 'HOPE_b2', 'netmf', 'netmf_l', 'netmf_b1', 'netmf_b2', 'heat', 'heat_l', 'heat_b1', 'heat_b2', 'FaBP', 'FaBP_l', 'FaBP_b1', 'FaBP_b2']\n",
      "20\n"
     ]
    }
   ],
   "source": [
    "n = ['invlap', 'HOPE', 'netmf', 'heat', 'FaBP']\n",
    "names = []\n",
    "for name in n:\n",
    "    names.append(name)\n",
    "    names.append(name + '_l')\n",
    "    names.append(name + '_b1')\n",
    "    names.append(name + '_b2')\n",
    "print(names)\n",
    "print(len(names))"
   ]
  },
  {
   "cell_type": "code",
   "execution_count": 12,
   "metadata": {},
   "outputs": [
    {
     "name": "stdout",
     "output_type": "stream",
     "text": [
      "1 / 20\n",
      "2 / 20\n",
      "3 / 20\n",
      "4 / 20\n",
      "5 / 20\n",
      "6 / 20\n",
      "7 / 20\n",
      "8 / 20\n",
      "9 / 20\n",
      "10 / 20\n",
      "11 / 20\n",
      "12 / 20\n",
      "13 / 20\n",
      "14 / 20\n",
      "15 / 20\n",
      "16 / 20\n",
      "17 / 20\n",
      "18 / 20\n",
      "19 / 20\n",
      "20 / 20\n"
     ]
    },
    {
     "data": {
      "image/png": "[encoded data removed]",
      "text/plain": [
       "<Figure size 432x288 with 1 Axes>"
      ]
     },
     "metadata": {
      "needs_background": "light"
     },
     "output_type": "display_data"
    }
   ],
   "source": [
    "c = 0\n",
    "for name in names:\n",
    "    precision_degree(name)\n",
    "    c += 1\n",
    "    print(c,'/',len(names))"
   ]
  },
  {
   "cell_type": "code",
   "execution_count": null,
   "metadata": {},
   "outputs": [],
   "source": []
  }
 ],
 "metadata": {
  "kernelspec": {
   "display_name": "Python 3",
   "language": "python",
   "name": "python3"
  },
  "language_info": {
   "codemirror_mode": {
    "name": "ipython",
    "version": 3
   },
   "file_extension": ".py",
   "mimetype": "text/x-python",
   "name": "python",
   "nbconvert_exporter": "python",
   "pygments_lexer": "ipython3",
   "version": "3.7.6"
  }
 },
 "nbformat": 4,
 "nbformat_minor": 4
}
